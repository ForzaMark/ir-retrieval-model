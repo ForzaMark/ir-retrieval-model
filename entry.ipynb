{
 "cells": [
  {
   "cell_type": "code",
   "execution_count": 3,
   "metadata": {},
   "outputs": [
    {
     "name": "stdout",
     "output_type": "stream",
     "text": [
      "No settings given in /root/.tira/.tira-settings.json. I will use defaults.\n",
      "PyTerrier 0.9.2 has loaded Terrier 5.8 (built by craigm on 2023-11-01 18:05) and terrier-helper 0.0.8\n",
      "\n",
      "No etc/terrier.properties, using terrier.default.properties for bootstrap configuration.\n",
      "No settings given in /root/.tira/.tira-settings.json. I will use defaults.\n",
      "Load ir_dataset \"ir-lab-jena-leipzig-wise-2023/training-20231104-training\" from tira.\n",
      "No settings given in /root/.tira/.tira-settings.json. I will use defaults.\n",
      "data load\n",
      "index created\n",
      "model created\n",
      "Done. run file is stored under \".//run.txt\".\n",
      "model executed against queries\n",
      "Overall performance:\n",
      "\n",
      "/usr/local/lib/python3.10/dist-packages/trectools/trec_eval.py:294: FutureWarning: The default of observed=False is deprecated and will be changed to True in a future version of pandas. Pass observed=False to retain current behavior or observed=True to adopt the future default and silence this warning.\n",
      "  selection = selection[~selection[\"rel\"].isnull()].groupby(\"query\").first().copy()\n",
      "{'run': 'initial_retrieval_system', 'nDCG@10': 0.1773804215063869, 'nDCG@10 (unjudgedRemoved)': 0.5367157810929261, 'MAP': 0.1186555257944954, 'MRR': 0.2628142657723083}\n",
      "\n",
      "\n",
      "Single word search:\n",
      "\n",
      "    qid  docid            docno  rank      score                   query\n",
      "0     1  22569  doc062200204469     0  23.656289  cardiovascular disease\n",
      "1     1  15518  doc062200503549     1  22.277075  cardiovascular disease\n",
      "2     1  12982  doc062210313658     2  21.861414  cardiovascular disease\n",
      "3     1  14562  doc062210205096     3  21.861414  cardiovascular disease\n",
      "4     1  29653  doc062200207690     4  21.805100  cardiovascular disease\n",
      "..   ..    ...              ...   ...        ...                     ...\n",
      "995   1  26672  doc062210507151   995   4.701093  cardiovascular disease\n",
      "996   1  20159  doc062200311005   996   4.675771  cardiovascular disease\n",
      "997   1  23821  doc062200204401   997   4.672176  cardiovascular disease\n",
      "998   1  32803  doc062206510518   998   4.672176  cardiovascular disease\n",
      "999   1   1449  doc062200204361   999   4.668586  cardiovascular disease\n",
      "\n",
      "[1000 rows x 6 columns]\n",
      "\n",
      "\n"
     ]
    }
   ],
   "source": [
    "!python main.py"
   ]
  },
  {
   "cell_type": "code",
   "execution_count": null,
   "metadata": {},
   "outputs": [],
   "source": []
  }
 ],
 "metadata": {
  "kernelspec": {
   "display_name": "Python 3 (ipykernel)",
   "language": "python",
   "name": "python3"
  },
  "language_info": {
   "codemirror_mode": {
    "name": "ipython",
    "version": 3
   },
   "file_extension": ".py",
   "mimetype": "text/x-python",
   "name": "python",
   "nbconvert_exporter": "python",
   "pygments_lexer": "ipython3",
   "version": "3.10.12"
  }
 },
 "nbformat": 4,
 "nbformat_minor": 4
}
